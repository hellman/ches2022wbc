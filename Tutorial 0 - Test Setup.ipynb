{
 "cells": [
  {
   "cell_type": "markdown",
   "id": "a52e56ea-d2f1-4fa5-aa43-6d4d470accef",
   "metadata": {},
   "source": [
    "# How to use Jupyter Lab (ipython notebook):\n",
    "\n",
    "- Briefly, it is an interactive interpreter (called \"kernel\").\n",
    "- However, code is organized in blocks (\"cells\"), which can be ran/edited multiple times.\n",
    "- Select a cell with code and press Shift+Enter to execute it.\n",
    "- As the selection advanced to the next cell, repeated pressing of Shift+Enter executes all cells in order.\n",
    "\n",
    "**Clarification**: there is only one kernel/state (per a notebook) at any point of time.\n",
    "There is no way to \"undo\" a cell execution other than to restart and re-execute the previous cells.\n",
    "\n",
    "Some hotkeys:\n",
    "- (0-0) restart the kernel\n",
    "- **Ctrl+S** save the notebook (including outputs!, but not the kernel state)\n",
    "- (A) add cell above the current one\n",
    "- (B) add cell below the current one\n",
    "- (D-D) remove the current cell\n",
    "- (C) copy the current cell(s)\n",
    "- (V) paste the copied cell(s) below\n",
    "- (Y) set cell type to \"code\"\n",
    "- (R) set cell type to \"raw\"\n",
    "- (M) set cell type to \"markdown\" (supports $\\LaTeX$)\n",
    "\n",
    "Cells can also be moved by drag-and-drop."
   ]
  },
  {
   "cell_type": "code",
   "execution_count": 1,
   "id": "2df9437f-7fe6-4a26-b51c-88145c238dc6",
   "metadata": {},
   "outputs": [
    {
     "data": {
      "text/plain": [
       "'It works!'"
      ]
     },
     "execution_count": 1,
     "metadata": {},
     "output_type": "execute_result"
    }
   ],
   "source": [
    "from ches2022test import HELLO\n",
    "HELLO"
   ]
  }
 ],
 "metadata": {
  "kernelspec": {
   "display_name": "pypy3",
   "language": "python",
   "name": "pypy3"
  },
  "language_info": {
   "codemirror_mode": {
    "name": "ipython",
    "version": 3
   },
   "file_extension": ".py",
   "mimetype": "text/x-python",
   "name": "python",
   "nbconvert_exporter": "python",
   "pygments_lexer": "ipython3",
   "version": "3.8.13"
  }
 },
 "nbformat": 4,
 "nbformat_minor": 5
}
